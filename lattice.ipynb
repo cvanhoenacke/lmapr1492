{
 "cells": [
  {
   "cell_type": "code",
   "execution_count": 4,
   "id": "b8b32738",
   "metadata": {},
   "outputs": [],
   "source": [
    "from pymatgen.core import Lattice, Structure, Molecule\n",
    "from pymatgen.symmetry.analyzer import SpacegroupAnalyzer"
   ]
  },
  {
   "cell_type": "code",
   "execution_count": 6,
   "id": "a87459cc",
   "metadata": {},
   "outputs": [],
   "source": [
    "structure = Structure.from_file(\"mp-10378.cif\")\n",
    "sf = SpacegroupAnalyzer(structure)"
   ]
  },
  {
   "cell_type": "code",
   "execution_count": 7,
   "id": "3f22a5b6",
   "metadata": {},
   "outputs": [
    {
     "data": {
      "text/plain": [
       "Lattice\n",
       "    abc : 9.350762 9.350762 9.350762\n",
       " angles : 90.0 90.0 90.0\n",
       " volume : 817.6002391225065\n",
       "      A : 9.350762 0.0 5.725690376444351e-16\n",
       "      B : 1.5037172163935605e-15 9.350762 5.725690376444351e-16\n",
       "      C : 0.0 0.0 9.350762"
      ]
     },
     "execution_count": 7,
     "metadata": {},
     "output_type": "execute_result"
    }
   ],
   "source": [
    "structure.lattice"
   ]
  },
  {
   "cell_type": "code",
   "execution_count": 8,
   "id": "2823073a",
   "metadata": {},
   "outputs": [
    {
     "data": {
      "text/plain": [
       "Lattice\n",
       "    abc : 0.6719436669631401 0.6719436669631401 0.6719436669631401\n",
       " angles : 90.00000000000001 90.00000000000001 90.00000000000001\n",
       " volume : 0.3033881371030659\n",
       "      A : 0.6719436669631401 -1.0805678301502002e-16 0.0\n",
       "      B : 0.0 0.6719436669631401 0.0\n",
       "      C : -4.1144683047687234e-17 -4.114468304768722e-17 0.6719436669631401"
      ]
     },
     "execution_count": 8,
     "metadata": {},
     "output_type": "execute_result"
    }
   ],
   "source": [
    "structure.lattice.reciprocal_lattice"
   ]
  },
  {
   "cell_type": "code",
   "execution_count": 9,
   "id": "b7f53119",
   "metadata": {},
   "outputs": [
    {
     "data": {
      "text/plain": [
       "'cubic'"
      ]
     },
     "execution_count": 9,
     "metadata": {},
     "output_type": "execute_result"
    }
   ],
   "source": [
    "sf.get_lattice_type()"
   ]
  },
  {
   "cell_type": "code",
   "execution_count": 10,
   "id": "53c20e9e",
   "metadata": {},
   "outputs": [
    {
     "data": {
      "text/plain": [
       "'cubic'"
      ]
     },
     "execution_count": 10,
     "metadata": {},
     "output_type": "execute_result"
    }
   ],
   "source": [
    "sf.get_crystal_system()"
   ]
  },
  {
   "cell_type": "code",
   "execution_count": 11,
   "id": "1dd54310",
   "metadata": {},
   "outputs": [
    {
     "data": {
      "text/plain": [
       "'m-3m'"
      ]
     },
     "execution_count": 11,
     "metadata": {},
     "output_type": "execute_result"
    }
   ],
   "source": [
    "sf.get_point_group_symbol()"
   ]
  },
  {
   "cell_type": "code",
   "execution_count": null,
   "id": "a42cf3f1",
   "metadata": {},
   "outputs": [],
   "source": []
  }
 ],
 "metadata": {
  "kernelspec": {
   "display_name": "Python 3",
   "language": "python",
   "name": "python3"
  },
  "language_info": {
   "codemirror_mode": {
    "name": "ipython",
    "version": 3
   },
   "file_extension": ".py",
   "mimetype": "text/x-python",
   "name": "python",
   "nbconvert_exporter": "python",
   "pygments_lexer": "ipython3",
   "version": "3.6.8"
  }
 },
 "nbformat": 4,
 "nbformat_minor": 5
}
