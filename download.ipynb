{
 "cells": [
  {
   "cell_type": "code",
   "execution_count": 1,
   "id": "d1b71361",
   "metadata": {},
   "outputs": [],
   "source": [
    "import pymatgen\n",
    "from pymatgen import Structure\n",
    "from pymatgen.symmetry.analyzer import SpacegroupAnalyzer\n",
    "from jupyter_jsmol.pymatgen import quick_view"
   ]
  },
  {
   "cell_type": "code",
   "execution_count": 6,
   "id": "6c0fd4d3",
   "metadata": {},
   "outputs": [
    {
     "name": "stdout",
     "output_type": "stream",
     "text": [
      "Full Formula (Cs3 Sb1)\n",
      "Reduced Formula: Cs3Sb\n",
      "abc   :   6.611987   6.611987   6.611987\n",
      "angles:  60.000000  60.000000  60.000000\n",
      "Sites (4)\n",
      "  #  SP       a     b     c    magmom\n",
      "---  ----  ----  ----  ----  --------\n",
      "  0  Cs    0.75  0.75  0.75        -0\n",
      "  1  Cs    0.25  0.25  0.25        -0\n",
      "  2  Cs    0.5   0.5   0.5         -0\n",
      "  3  Sb    0     0     0            0\n",
      "Full Formula (Cs12 Sb4)\n",
      "Reduced Formula: Cs3Sb\n",
      "abc   :   9.350762   9.350762   9.350762\n",
      "angles:  90.000000  90.000000  90.000000\n",
      "Sites (16)\n",
      "  #  SP       a     b     c\n",
      "---  ----  ----  ----  ----\n",
      "  0  Cs    0.25  0.25  0.25\n",
      "  1  Cs    0.75  0.75  0.75\n",
      "  2  Cs    0.75  0.25  0.25\n",
      "  3  Cs    0.25  0.75  0.75\n",
      "  4  Cs    0.75  0.75  0.25\n",
      "  5  Cs    0.25  0.25  0.75\n",
      "  6  Cs    0.25  0.75  0.25\n",
      "  7  Cs    0.75  0.25  0.75\n",
      "  8  Cs    0     0     0.5\n",
      "  9  Cs    0.5   0     0\n",
      " 10  Cs    0     0.5   0\n",
      " 11  Cs    0.5   0.5   0.5\n",
      " 12  Sb    0     0     0\n",
      " 13  Sb    0.5   0.5   0\n",
      " 14  Sb    0.5   0     0.5\n",
      " 15  Sb    0     0.5   0.5\n"
     ]
    }
   ],
   "source": [
    "from pymatgen.ext.matproj import MPRester\n",
    "from pymatgen.io.cif import CifParser\n",
    "\n",
    "with MPRester(\"xAixBxXBVwN8D32SEfC8\") as m:\n",
    "\n",
    "    # Structure for material id\n",
    "    structure_1 = m.get_structure_by_material_id(\"mp-10378\")\n",
    "\n",
    "    # Dos for material id\n",
    "    dos = m.get_dos_by_material_id(\"mp-10378\")\n",
    "\n",
    "    # Bandstructure for material id\n",
    "    bandstructure = m.get_bandstructure_by_material_id(\"mp-10378\")\n",
    "     \n",
    "xtal = Structure.from_file(\"Cs3Sb_mp-10378_symmetrized.cif\")"
   ]
  },
  {
   "cell_type": "code",
   "execution_count": null,
   "id": "a4f38b21",
   "metadata": {},
   "outputs": [],
   "source": []
  },
  {
   "cell_type": "code",
   "execution_count": 4,
   "id": "fc3d4478",
   "metadata": {},
   "outputs": [
    {
     "data": {
      "application/vnd.jupyter.widget-view+json": {
       "model_id": "933c44727bb140e39ba2df7f3079f744",
       "version_major": 2,
       "version_minor": 0
      },
      "text/plain": [
       "JsmolView(layout=Layout(align_self='stretch', height='400px'))"
      ]
     },
     "metadata": {},
     "output_type": "display_data"
    }
   ],
   "source": [
    "view = quick_view(xtal, supercell=[2,2,2])\n",
    "display(view)"
   ]
  },
  {
   "cell_type": "code",
   "execution_count": null,
   "id": "cd4c1b22",
   "metadata": {},
   "outputs": [],
   "source": []
  },
  {
   "cell_type": "code",
   "execution_count": null,
   "id": "e45f6ff1",
   "metadata": {},
   "outputs": [],
   "source": []
  },
  {
   "cell_type": "code",
   "execution_count": null,
   "id": "c1972ceb",
   "metadata": {},
   "outputs": [],
   "source": []
  }
 ],
 "metadata": {
  "kernelspec": {
   "display_name": "Python 3",
   "language": "python",
   "name": "python3"
  },
  "language_info": {
   "codemirror_mode": {
    "name": "ipython",
    "version": 3
   },
   "file_extension": ".py",
   "mimetype": "text/x-python",
   "name": "python",
   "nbconvert_exporter": "python",
   "pygments_lexer": "ipython3",
   "version": "3.6.8"
  }
 },
 "nbformat": 4,
 "nbformat_minor": 5
}
